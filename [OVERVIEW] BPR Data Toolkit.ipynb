{
 "cells": [
  {
   "cell_type": "markdown",
   "metadata": {},
   "source": [
    "<img src=\"Templates/BPRLogo.png\">\n",
    "\n",
    "# _Berkeley Political Review_ Data Visualization Toolkit\n",
    "\n",
    "## Overview\n",
    "\n",
    "_Fall 2019_"
   ]
  },
  {
   "cell_type": "markdown",
   "metadata": {},
   "source": [
    "<hr />"
   ]
  },
  {
   "cell_type": "markdown",
   "metadata": {},
   "source": [
    "## Hello!\n",
    "\n",
    "Welcome to the _Berkeley Political Review_ Data Visualization Toolkit. In this repository you'll find templates, guides, and tips for how ___you___ can create your own (interactive) data visualizations. This toolkit was designed specifically for BPR and works with our existing tech infrastructure, making sharing your work easier than ever. Below you'll find a list of all of the resources in this repository as well as a few tips to help you get started. \n",
    "\n",
    "The Toolkit and associated resources are part of a larger data visualization project by the [BPR Tech Team](http://Berkeleypoliticalreview.github.io/Tech#personnel). We're responsible for keeping the BPR website up to date, creating interactive charts and other visualizations, and helping with everything tech-related at BPR. This year, we're expanding our abilities and adding new projects to our docket, so be on the lookout for cool things to come. If you like what you see here and want to check out more, why not visit our [tech website](http://Berkeleypoliticalreview.github.io/Tech/)."
   ]
  },
  {
   "cell_type": "markdown",
   "metadata": {},
   "source": [
    "<hr />"
   ]
  },
  {
   "cell_type": "markdown",
   "metadata": {},
   "source": [
    "## Other Resources\n",
    "Before continuing, here are some BPR resources you might useful."
   ]
  },
  {
   "cell_type": "markdown",
   "metadata": {},
   "source": [
    "### $\\bullet$ [BPR Website](https://bpr.berkeley.edu)\n",
    "\n",
    "### $\\bullet$ [BPR Tech Website](https://Berkeleypoliticalreview.github.io/Tech/)\n",
    "\n",
    "### $\\bullet$ [Data Visualization Style Guide](https://docs.google.com/document/d/1GdoadCNE61NPEwnjkYhMGG8jj6pwp65_7rky6LFZPX4/edit?usp=sharing)\n",
    "\n",
    "### $\\bullet$ [Request a Custom Data Visualization](https://docs.google.com/forms/d/e/1FAIpQLSep123FQnINvWbdw6akb8Vnj2KO-Gf0IyVzWGFS9BUjOMWQsA/viewform)"
   ]
  },
  {
   "cell_type": "markdown",
   "metadata": {},
   "source": [
    "## Directory: Templates and Guides\n"
   ]
  },
  {
   "cell_type": "markdown",
   "metadata": {},
   "source": [
    "### Templates\n",
    "$\\bullet$ [Bar Chart Template]\n",
    "\n",
    "$\\bullet$ [Histogram Template]\n",
    "\n",
    "$\\bullet$ [Line Plot Template]\n",
    "\n",
    "$\\bullet$ [Scatter Plot Template]\n",
    "\n",
    "$\\bullet$ [US Map Template]\n",
    "\n",
    "$\\bullet$ [World Map Template]\n",
    "\n",
    "$\\bullet$ US Congressional District Map Template _(COMING SOON)_\n",
    "\n",
    "$\\bullet$ US County Map Template _(COMING SOON)_\n",
    "\n",
    "\n",
    "\n",
    "### Guides\n",
    "$\\bullet$ Getting Started"
   ]
  },
  {
   "cell_type": "code",
   "execution_count": null,
   "metadata": {},
   "outputs": [],
   "source": []
  }
 ],
 "metadata": {
  "kernelspec": {
   "display_name": "Python 3",
   "language": "python",
   "name": "python3"
  },
  "language_info": {
   "codemirror_mode": {
    "name": "ipython",
    "version": 3
   },
   "file_extension": ".py",
   "mimetype": "text/x-python",
   "name": "python",
   "nbconvert_exporter": "python",
   "pygments_lexer": "ipython3",
   "version": "3.6.4"
  }
 },
 "nbformat": 4,
 "nbformat_minor": 2
}
