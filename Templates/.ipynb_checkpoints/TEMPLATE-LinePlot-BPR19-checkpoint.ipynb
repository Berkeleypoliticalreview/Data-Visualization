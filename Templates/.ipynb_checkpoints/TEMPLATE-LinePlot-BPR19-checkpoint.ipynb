{
 "cells": [
  {
   "cell_type": "markdown",
   "metadata": {},
   "source": [
    "<img src=\"BPRLogo.png\">\n",
    "\n",
    "# _Berkeley Political Review_ Data Visualization Template\n",
    "\n",
    "## Line Plot\n",
    "\n",
    "_Fall 2019_"
   ]
  },
  {
   "cell_type": "code",
   "execution_count": 1,
   "metadata": {},
   "outputs": [],
   "source": [
    "import numpy as np\n",
    "import pandas as pd\n",
    "\n",
    "from matplotlib import pyplot as plt\n",
    "\n",
    "%matplotlib inline\n",
    "\n",
    "import chart_studio.plotly as pl\n",
    "import plotly.express as px\n",
    "import plotly.graph_objects as go"
   ]
  },
  {
   "cell_type": "code",
   "execution_count": 2,
   "metadata": {},
   "outputs": [],
   "source": [
    "#DON'T CHANGE THIS CELL, JUST RUN IT\n",
    "\n",
    "f = open(\"../credentials.txt\")\n",
    "\n",
    "u = f.readline()\n",
    "plotly_user = str(u[:-1])\n",
    "\n",
    "k = f.readline()\n",
    "plotly_api_key = str(k)"
   ]
  },
  {
   "cell_type": "code",
   "execution_count": 3,
   "metadata": {},
   "outputs": [],
   "source": [
    "#DON'T CHANGE THIS CELL, JUST RUN IT\n",
    "pl.sign_in(username = plotly_user, api_key = plotly_api_key)"
   ]
  },
  {
   "cell_type": "code",
   "execution_count": null,
   "metadata": {},
   "outputs": [],
   "source": []
  }
 ],
 "metadata": {
  "kernelspec": {
   "display_name": "Python 3",
   "language": "python",
   "name": "python3"
  },
  "language_info": {
   "codemirror_mode": {
    "name": "ipython",
    "version": 3
   },
   "file_extension": ".py",
   "mimetype": "text/x-python",
   "name": "python",
   "nbconvert_exporter": "python",
   "pygments_lexer": "ipython3",
   "version": "3.6.4"
  }
 },
 "nbformat": 4,
 "nbformat_minor": 2
}
